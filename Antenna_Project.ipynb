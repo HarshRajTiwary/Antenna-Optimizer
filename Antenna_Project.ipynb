{
  "nbformat": 4,
  "nbformat_minor": 0,
  "metadata": {
    "colab": {
      "provenance": []
    },
    "kernelspec": {
      "name": "python3",
      "display_name": "Python 3"
    },
    "language_info": {
      "name": "python"
    }
  },
  "cells": [
    {
      "cell_type": "code",
      "execution_count": 5,
      "metadata": {
        "colab": {
          "base_uri": "https://localhost:8080/"
        },
        "id": "o_tp8PKt0cnR",
        "outputId": "2ba345bf-7426-48d8-99b5-3d2f21733fd4"
      },
      "outputs": [
        {
          "output_type": "stream",
          "name": "stdout",
          "text": [
            "<class 'pandas.core.frame.DataFrame'>\n",
            "RangeIndex: 1000 entries, 0 to 999\n",
            "Data columns (total 13 columns):\n",
            " #   Column                 Non-Null Count  Dtype  \n",
            "---  ------                 --------------  -----  \n",
            " 0   Patch_Length_mm        1000 non-null   float64\n",
            " 1   Patch_Width_mm         1000 non-null   float64\n",
            " 2   Slot_Length_mm         1000 non-null   float64\n",
            " 3   Slot_Width_mm          1000 non-null   float64\n",
            " 4   Substrate_Height_mm    1000 non-null   float64\n",
            " 5   Relative_Permittivity  1000 non-null   float64\n",
            " 6   Frequency_GHz          1000 non-null   float64\n",
            " 7   Gain_dB                1000 non-null   float64\n",
            " 8   Directivity            1000 non-null   float64\n",
            " 9   S11_dB                 1000 non-null   float64\n",
            " 10  Bandwidth_MHz          1000 non-null   float64\n",
            " 11  Radiation_Efficiency   1000 non-null   float64\n",
            " 12  Impedance_Match        1000 non-null   float64\n",
            "dtypes: float64(13)\n",
            "memory usage: 101.7 KB\n",
            "None\n",
            "   Patch_Length_mm  Patch_Width_mm  Slot_Length_mm  Slot_Width_mm  \\\n",
            "0        42.390891       23.478581       15.386437      13.163189   \n",
            "1        43.233760       43.016840       10.558507      13.908999   \n",
            "2        58.468744       21.551567       17.476918       9.470807   \n",
            "3        49.285311       25.224330        7.529221      11.882125   \n",
            "4        34.387492       25.151402       11.326891      14.378011   \n",
            "\n",
            "   Substrate_Height_mm  Relative_Permittivity  Frequency_GHz    Gain_dB  \\\n",
            "0             1.929681               3.125745       4.425516  10.960229   \n",
            "1             4.663286               4.001405       3.868446   9.676761   \n",
            "2             3.710932               2.785786       1.450823   9.739499   \n",
            "3             3.433196               3.210644       1.423746  10.309095   \n",
            "4             2.380339               3.746226       1.728827  10.147433   \n",
            "\n",
            "   Directivity     S11_dB  Bandwidth_MHz  Radiation_Efficiency  \\\n",
            "0     8.110292 -12.349329      20.000000             78.613240   \n",
            "1     8.098272 -12.567253      20.000000             69.670014   \n",
            "2     8.652271 -10.411054      41.984885             86.474489   \n",
            "3     7.399601 -10.534818      20.000000             79.673610   \n",
            "4     6.987259  -8.910157      20.000000             72.920423   \n",
            "\n",
            "   Impedance_Match  \n",
            "0        50.462535  \n",
            "1        49.287935  \n",
            "2        51.035900  \n",
            "3        50.088666  \n",
            "4        49.427619  \n"
          ]
        }
      ],
      "source": [
        "import pandas as pd\n",
        "\n",
        "# Load dataset\n",
        "file_path = 'antenna_dataset_complete.csv'\n",
        "antenna_data = pd.read_csv(file_path)\n",
        "\n",
        "# Display dataset structure\n",
        "print(antenna_data.info())\n",
        "print(antenna_data.head())\n"
      ]
    },
    {
      "cell_type": "code",
      "source": [
        "from sklearn.model_selection import train_test_split\n",
        "from sklearn.preprocessing import StandardScaler\n",
        "\n",
        "# Define features and target variables\n",
        "input_features = [\n",
        "    'Patch_Length_mm', 'Patch_Width_mm', 'Slot_Length_mm', 'Slot_Width_mm',\n",
        "    'Substrate_Height_mm', 'Relative_Permittivity', 'Frequency_GHz'\n",
        "]\n",
        "targets = ['Gain_dB', 'Directivity', 'S11_dB', 'Bandwidth_MHz', 'Radiation_Efficiency']\n",
        "\n",
        "# Split the data\n",
        "X = antenna_data[input_features].values  # Convert to NumPy array\n",
        "y = antenna_data[targets].values         # Convert to NumPy array\n",
        "X_train, X_test, y_train, y_test = train_test_split(X, y, test_size=0.2, random_state=42)\n",
        "\n",
        "# Normalize the data\n",
        "scaler = StandardScaler()\n",
        "X_train_scaled = scaler.fit_transform(X_train)\n",
        "X_test_scaled = scaler.transform(X_test)\n"
      ],
      "metadata": {
        "id": "YHCUYenV00Y-"
      },
      "execution_count": 6,
      "outputs": []
    },
    {
      "cell_type": "code",
      "source": [
        "from sklearn.ensemble import RandomForestRegressor\n",
        "from sklearn.metrics import mean_squared_error\n",
        "\n",
        "# Train the model\n",
        "model = RandomForestRegressor(n_estimators=100, random_state=42)\n",
        "model.fit(X_train_scaled, y_train)\n",
        "\n",
        "# Evaluate the model\n",
        "y_pred = model.predict(X_test_scaled)\n",
        "mse = mean_squared_error(y_test, y_pred, multioutput='raw_values')\n",
        "print(f\"Mean Squared Errors for Targets: {dict(zip(targets, mse))}\")"
      ],
      "metadata": {
        "colab": {
          "base_uri": "https://localhost:8080/"
        },
        "id": "XzBCh2HI02xL",
        "outputId": "3013cd97-3ad9-460f-ffe4-752feaa97ea9"
      },
      "execution_count": 7,
      "outputs": [
        {
          "output_type": "stream",
          "name": "stdout",
          "text": [
            "Mean Squared Errors for Targets: {'Gain_dB': 0.2580727312041875, 'Directivity': 0.18065892884479515, 'S11_dB': 1.5152320967914596, 'Bandwidth_MHz': 23.40562753108877, 'Radiation_Efficiency': 12.512365916723542}\n"
          ]
        }
      ]
    },
    {
      "cell_type": "code",
      "source": [
        "import numpy as np\n",
        "from scipy.optimize import differential_evolution\n",
        "\n",
        "# Define the objective function\n",
        "def objective_function(parameters):\n",
        "    parameters = np.array(parameters).reshape(1, -1)\n",
        "    scaled_params = scaler.transform(parameters)\n",
        "    predictions = model.predict(scaled_params)\n",
        "    # Objective: Maximize Gain and minimize S11\n",
        "    gain, _, s11, _, _ = predictions[0]\n",
        "    return -gain + abs(s11)\n",
        "\n",
        "# Define bounds for the parameters\n",
        "bounds = [\n",
        "    (antenna_data['Patch_Length_mm'].min(), antenna_data['Patch_Length_mm'].max()),\n",
        "    (antenna_data['Patch_Width_mm'].min(), antenna_data['Patch_Width_mm'].max()),\n",
        "    (antenna_data['Slot_Length_mm'].min(), antenna_data['Slot_Length_mm'].max()),\n",
        "    (antenna_data['Slot_Width_mm'].min(), antenna_data['Slot_Width_mm'].max()),\n",
        "    (antenna_data['Substrate_Height_mm'].min(), antenna_data['Substrate_Height_mm'].max()),\n",
        "    (antenna_data['Relative_Permittivity'].min(), antenna_data['Relative_Permittivity'].max()),\n",
        "    (antenna_data['Frequency_GHz'].min(), antenna_data['Frequency_GHz'].max()),\n",
        "]\n",
        "\n",
        "# Run the optimization\n",
        "result = differential_evolution(objective_function, bounds, strategy='best1bin', maxiter=100, seed=42)\n",
        "optimized_parameters = result.x\n",
        "print(\"Optimized Design Parameters:\", optimized_parameters)\n"
      ],
      "metadata": {
        "colab": {
          "base_uri": "https://localhost:8080/"
        },
        "id": "r5ZdwLOy05TW",
        "outputId": "dfafca08-9979-4379-8596-8b9c998bda1b"
      },
      "execution_count": 8,
      "outputs": [
        {
          "output_type": "stream",
          "name": "stdout",
          "text": [
            "Optimized Design Parameters: [30.28198811 48.4791916   6.95541455  5.8112788   3.2613678   3.0370824\n",
            "  2.78107441]\n"
          ]
        }
      ]
    },
    {
      "cell_type": "code",
      "source": [
        "# Predict performance of optimized design\n",
        "optimized_params_scaled = scaler.transform([optimized_parameters])\n",
        "optimized_performance = model.predict(optimized_params_scaled)\n",
        "print(\"Optimized Performance Metrics:\", dict(zip(targets, optimized_performance[0])))\n",
        "\n",
        "# Visualize comparison with an example original design\n",
        "import matplotlib.pyplot as plt\n",
        "\n",
        "original_performance = y_test[0]  # Example comparison with first test data\n",
        "plt.bar(targets, original_performance, alpha=0.6, label='Original Design')\n",
        "plt.bar(targets, optimized_performance[0], alpha=0.6, label='Optimized Design')\n",
        "plt.ylabel(\"Performance Metrics\")\n",
        "plt.title(\"Original vs Optimized Antenna Performance\")\n",
        "plt.legend()\n",
        "plt.show()\n"
      ],
      "metadata": {
        "colab": {
          "base_uri": "https://localhost:8080/",
          "height": 489
        },
        "id": "sKICIZgD07C8",
        "outputId": "3ee79568-f100-4b44-f87c-56063dfd484f"
      },
      "execution_count": 9,
      "outputs": [
        {
          "output_type": "stream",
          "name": "stdout",
          "text": [
            "Optimized Performance Metrics: {'Gain_dB': 10.11239074612041, 'Directivity': 6.93055603808747, 'S11_dB': -8.496795439221813, 'Bandwidth_MHz': 77.50880928519983, 'Radiation_Efficiency': 65.0056742891404}\n"
          ]
        },
        {
          "output_type": "display_data",
          "data": {
            "text/plain": [
              "<Figure size 640x480 with 1 Axes>"
            ],
            "image/png": "[encoded data removed]"
          },
          "metadata": {}
        }
      ]
    },
    {
      "cell_type": "code",
      "source": [
        "import joblib\n",
        "\n",
        "# Save the trained model and scaler\n",
        "joblib.dump(model, 'antenna_model.pkl')\n",
        "joblib.dump(scaler, 'scaler.pkl')\n",
        "\n",
        "print(\"Model and scaler have been saved successfully.\")\n"
      ],
      "metadata": {
        "colab": {
          "base_uri": "https://localhost:8080/"
        },
        "id": "J9VFT-St10N-",
        "outputId": "487637dc-f6ac-4838-c054-15a01be42a47"
      },
      "execution_count": 10,
      "outputs": [
        {
          "output_type": "stream",
          "name": "stdout",
          "text": [
            "Model and scaler have been saved successfully.\n"
          ]
        }
      ]
    },
    {
      "cell_type": "code",
      "source": [
        "# Load the saved model and scaler\n",
        "loaded_model = joblib.load('antenna_model.pkl')\n",
        "loaded_scaler = joblib.load('scaler.pkl')\n",
        "\n",
        "# Define a prediction function\n",
        "def predict_antenna_performance(design_parameters):\n",
        "    \"\"\"\n",
        "    Predict the performance of a patch antenna given its design parameters.\n",
        "\n",
        "    Parameters:\n",
        "    - design_parameters: List or array of design parameters\n",
        "      [Patch_Length_mm, Patch_Width_mm, Slot_Length_mm, Slot_Width_mm,\n",
        "       Substrate_Height_mm, Relative_Permittivity, Frequency_GHz]\n",
        "\n",
        "    Returns:\n",
        "    - Dictionary of predicted performance metrics\n",
        "    \"\"\"\n",
        "    # Convert parameters to a NumPy array\n",
        "    design_parameters = np.array(design_parameters).reshape(1, -1)\n",
        "\n",
        "    # Scale the parameters\n",
        "    scaled_parameters = loaded_scaler.transform(design_parameters)\n",
        "\n",
        "    # Predict performance\n",
        "    performance_metrics = loaded_model.predict(scaled_parameters)[0]\n",
        "\n",
        "    # Map predictions to their corresponding targets\n",
        "    performance_dict = dict(zip(targets, performance_metrics))\n",
        "\n",
        "    return performance_dict\n"
      ],
      "metadata": {
        "id": "umP-iQMA17g4"
      },
      "execution_count": 11,
      "outputs": []
    },
    {
      "cell_type": "code",
      "source": [
        "# Example design parameters (replace with real values)\n",
        "example_design = [\n",
        "    15.0,  # Patch_Length_mm\n",
        "    10.0,  # Patch_Width_mm\n",
        "    5.0,   # Slot_Length_mm\n",
        "    2.0,   # Slot_Width_mm\n",
        "    1.5,   # Substrate_Height_mm\n",
        "    4.4,   # Relative_Permittivity\n",
        "    2.45   # Frequency_GHz\n",
        "]\n",
        "\n",
        "# Predict performance\n",
        "predicted_performance = predict_antenna_performance(example_design)\n",
        "print(\"Predicted Performance Metrics:\", predicted_performance)\n"
      ],
      "metadata": {
        "colab": {
          "base_uri": "https://localhost:8080/"
        },
        "id": "cLIQHR4c19-Y",
        "outputId": "2bce8aa5-e42e-4f6c-9368-59f6d5009089"
      },
      "execution_count": 12,
      "outputs": [
        {
          "output_type": "stream",
          "name": "stdout",
          "text": [
            "Predicted Performance Metrics: {'Gain_dB': 10.045159543994714, 'Directivity': 7.020336677306375, 'S11_dB': -10.545577881345498, 'Bandwidth_MHz': 82.21314597960894, 'Radiation_Efficiency': 67.52333433761002}\n"
          ]
        }
      ]
    },
    {
      "cell_type": "code",
      "source": [],
      "metadata": {
        "id": "nvkqp91e2sfc"
      },
      "execution_count": 13,
      "outputs": []
    }
  ]
}